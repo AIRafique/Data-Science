{
 "cells": [
  {
   "cell_type": "markdown",
   "metadata": {},
   "source": [
    "# <center>**Reflective Report**</center>\n",
    "\n",
    "<center> STUDENT ID: 48065145 </center>"
   ]
  },
  {
   "cell_type": "markdown",
   "metadata": {},
   "source": [
    "## <center>**Problem Solving Process**</center>"
   ]
  },
  {
   "cell_type": "markdown",
   "metadata": {},
   "source": [
    "### Portfolio Parts 1,2,3"
   ]
  },
  {
   "cell_type": "markdown",
   "metadata": {},
   "source": [
    "- The First 3 Portfolio Parts centred around the same \"E-Commerce Dataset\". The first part was all about data cleaning, analysis and visualisation, whereas the second and third part revolved around creating and testing prediction models using multiple techniques learned throughout the course. \n",
    "\n",
    "- Data visualisation, analysis and cleaning was a simple process which only utilised basics of python programming, for which I already had a developed base. \n",
    "\n",
    "- For the prediction models, the process has multiple stages and if they are followed properly, then nothing can go wrong. The steps are as follows: `cleaning the data`, `analysizing correlation`, `splitting the data features based on correlation`, and finally `training the model`.\n",
    "\n",
    "- These steps are consistent for both regression models or classification models. The features with highest correlation with the field of interest should be used to train the prediction model."
   ]
  },
  {
   "cell_type": "markdown",
   "metadata": {},
   "source": [
    "### Portfolio Part 4"
   ]
  },
  {
   "cell_type": "markdown",
   "metadata": {},
   "source": [
    "#### Choosing the Dataset"
   ]
  },
  {
   "cell_type": "markdown",
   "metadata": {},
   "source": [
    "- Portfolio Part 4, being an open-ended task, meant I could choose the dataset I wanted. I therefore chose a dataset which extracted features from different song samples and classified them into different genres. There were pros and cons of choosing the particular [dataset](https://www.kaggle.com/datasets/insiyeah/musicfeatures?select=data.csv)\n",
    "\n",
    "- The pros: Data included labels which could be encoded using ordinal encoder or one-hot encoder. There were 29 features in total, and no null values so no cleaning was necessary. There were equal number of samples for each genre, so the prediction model would be fair.\n",
    "\n",
    "- The cons: The dataset was very small i.e. 100 songs per genre and 10 genres so 1000 data samples in total. For creation of a fair model, the dataset should be vast. Furthermore, of the 29 features, majority were useless for a layman to understand and hence had to be dropped from the dataset.\n",
    "\n"
   ]
  },
  {
   "cell_type": "markdown",
   "metadata": {},
   "source": [
    "#### Identifying the problem"
   ]
  },
  {
   "cell_type": "markdown",
   "metadata": {},
   "source": [
    "- Music apps like spotify have a large database of songs. They use prediction models based on the music features to add genre labels to songs, sometimes even multiple labels for each song. This is how they create a \"for you\" playlist where they add songs of genres similar to what you usually listen. \n",
    "\n",
    "- The determination for this portfolio task was simply that I decided to see whether this was a difficult task to replicate. "
   ]
  },
  {
   "cell_type": "markdown",
   "metadata": {},
   "source": [
    "#### Training the Models"
   ]
  },
  {
   "cell_type": "markdown",
   "metadata": {},
   "source": [
    "- I decided to go with 1 regression model and 1 classification model for creating an accurate model.\n",
    "\n",
    "- Both models did not perform well and had almost similarly low accuracy, and this was unexpected to say the least. I later found out was due to the fact that I had not normalized the data prior to training the model. \n",
    "\n",
    "- post-submission, I have attempted to normalize the data and train the models. Normalizing had no effect on correlation. Both models were extremely accurate when trained on normalized data."
   ]
  },
  {
   "cell_type": "markdown",
   "metadata": {},
   "source": [
    "## <center>**Progress and Future Endeavours**</center>"
   ]
  },
  {
   "cell_type": "markdown",
   "metadata": {},
   "source": [
    "- Throughout the duration of this course, I have learned many new techniques not just related to data science but also programming in general. Also, using GitHub made versioning and backups possible, which was an added bonus.\n",
    "\n",
    "- The portfolio tasks have increased my ability to be self-sufficient. They have enabled me to see the importance of \"data\" which is everywhere, and can be sought through a variety of means.\n",
    "\n",
    "- I have learned about the various different prediction models that can be used to estimate specific events with high accuracy. The regression and classification techniques used to seem very complex but since learning and applying them in the portfolio tasks, they have now become ingrained within my mind.\n",
    "\n",
    "- I am an Electronics Engineer, and elected Data Science course out of curiosity more than interest. However, I will continue to learn more data processing and analysis techniques because the field of Data Science has piqued my interest. There are certainly many areas of Engineering where Data Science techniques can be applied, and have been applied throughout history for e.g. Moore's Law."
   ]
  }
 ],
 "metadata": {
  "language_info": {
   "name": "python"
  }
 },
 "nbformat": 4,
 "nbformat_minor": 2
}
