{
 "cells": [
  {
   "cell_type": "markdown",
   "id": "Z88FfJc9lA_T",
   "metadata": {
    "id": "Z88FfJc9lA_T"
   },
   "source": [
    "## Analysis of an E-commerce Dataset Part 3 (s2 2023)"
   ]
  },
  {
   "cell_type": "markdown",
   "id": "hoq0NwA9lA_V",
   "metadata": {
    "id": "hoq0NwA9lA_V"
   },
   "source": [
    "\n",
    "In this Portfolio task, you will continue working with the dataset you have used in portfolio 2. But the difference is that the ratings have been converted to like (with score 1) and dislike (with score 0). Your task is to train classification models such as KNN to predict whether a user like or dislike an item.  \n",
    "\n",
    "\n",
    "The header of the csv file is shown below. \n",
    "\n",
    "| userId | timestamp | review | item | helpfulness | gender | category | item_id | item_price | user_city | rating |\n",
    "    | ---- | ---- | ---- | ---- | ---- | ---- | ---- | ---- | ---- | ---- | ---- |\n",
    "    \n",
    "Your high level goal in this notebook is to try to build and evaluate predictive models for 'rating' from other available features - predict the value of the like (corresponding to rating 1) and dislike (corresponding to rating 0) in the data from some of the other fields. More specifically, you need to complete the following major steps: \n",
    "1) Explore the data. Clean the data if necessary. For example, remove abnormal instanaces and replace missing values.\n",
    "2) Convert object features into digit features by using an encoder\n",
    "3) Study the correlation between these features. \n",
    "4) Split the dataset and train a logistic regression model to predict 'rating' based on other features. Evaluate the accuracy of your model.\n",
    "5) Split the dataset and train a KNN model to predict 'rating' based on other features. You can set K with an ad-hoc manner in this step. Evaluate the accuracy of your model.\n",
    "6) Tune the hyper-parameter K in KNN to see how it influences the prediction performance\n",
    "\n",
    "Note 1: We did not provide any description of each step in the notebook. You should learn how to properly comment your notebook by yourself to make your notebook file readable. \n",
    "\n",
    "Note 2: you are not being evaluated on the ___accuracy___ of the model but on the ___process___ that you use to generate it. Please use both ___Logistic Regression model___ and ___KNN model___ for solving this classification problem. Accordingly, discuss the performance of these two methods.\n",
    "    "
   ]
  },
  {
   "cell_type": "code",
   "execution_count": 1,
   "id": "47f2820a",
   "metadata": {},
   "outputs": [],
   "source": [
    "#import statements\n",
    "import pandas as pd\n",
    "import numpy as np\n",
    "import matplotlib.pyplot as plt\n",
    "import seaborn as sns\n",
    "%matplotlib inline\n",
    "\n",
    "from sklearn.model_selection import train_test_split, cross_val_score\n",
    "from sklearn.neighbors import KNeighborsClassifier\n",
    "from sklearn.linear_model import LogisticRegression\n",
    "from sklearn.metrics import accuracy_score, confusion_matrix, ConfusionMatrixDisplay\n",
    "from sklearn.preprocessing import OrdinalEncoder\n",
    "from textblob import TextBlob"
   ]
  },
  {
   "cell_type": "markdown",
   "id": "6fd39a30",
   "metadata": {},
   "source": [
    "## Initializing the Data"
   ]
  },
  {
   "cell_type": "markdown",
   "id": "64171f18",
   "metadata": {},
   "source": [
    "#### 1. Importing the dataset"
   ]
  },
  {
   "cell_type": "markdown",
   "id": "be5cad28",
   "metadata": {},
   "source": [
    "Following standard procedure, the dataset is imported to the workspace for processing."
   ]
  },
  {
   "cell_type": "code",
   "execution_count": 2,
   "id": "49f1d50e",
   "metadata": {},
   "outputs": [
    {
     "data": {
      "text/html": [
       "<div>\n",
       "<style scoped>\n",
       "    .dataframe tbody tr th:only-of-type {\n",
       "        vertical-align: middle;\n",
       "    }\n",
       "\n",
       "    .dataframe tbody tr th {\n",
       "        vertical-align: top;\n",
       "    }\n",
       "\n",
       "    .dataframe thead th {\n",
       "        text-align: right;\n",
       "    }\n",
       "</style>\n",
       "<table border=\"1\" class=\"dataframe\">\n",
       "  <thead>\n",
       "    <tr style=\"text-align: right;\">\n",
       "      <th></th>\n",
       "      <th>userId</th>\n",
       "      <th>timestamp</th>\n",
       "      <th>review</th>\n",
       "      <th>item</th>\n",
       "      <th>helpfulness</th>\n",
       "      <th>gender</th>\n",
       "      <th>category</th>\n",
       "      <th>item_id</th>\n",
       "      <th>item_price</th>\n",
       "      <th>user_city</th>\n",
       "      <th>rating</th>\n",
       "    </tr>\n",
       "  </thead>\n",
       "  <tbody>\n",
       "    <tr>\n",
       "      <th>0</th>\n",
       "      <td>4081</td>\n",
       "      <td>71900</td>\n",
       "      <td>Not always McCrap</td>\n",
       "      <td>McDonald's</td>\n",
       "      <td>3</td>\n",
       "      <td>M</td>\n",
       "      <td>Restaurants &amp; Gourmet</td>\n",
       "      <td>41</td>\n",
       "      <td>30.74</td>\n",
       "      <td>4</td>\n",
       "      <td>1</td>\n",
       "    </tr>\n",
       "    <tr>\n",
       "      <th>1</th>\n",
       "      <td>4081</td>\n",
       "      <td>72000</td>\n",
       "      <td>I dropped the chalupa even before he told me to</td>\n",
       "      <td>Taco Bell</td>\n",
       "      <td>4</td>\n",
       "      <td>M</td>\n",
       "      <td>Restaurants &amp; Gourmet</td>\n",
       "      <td>74</td>\n",
       "      <td>108.30</td>\n",
       "      <td>4</td>\n",
       "      <td>0</td>\n",
       "    </tr>\n",
       "    <tr>\n",
       "      <th>2</th>\n",
       "      <td>4081</td>\n",
       "      <td>72000</td>\n",
       "      <td>The Wonderful World of Wendy</td>\n",
       "      <td>Wendy's</td>\n",
       "      <td>4</td>\n",
       "      <td>M</td>\n",
       "      <td>Restaurants &amp; Gourmet</td>\n",
       "      <td>84</td>\n",
       "      <td>69.00</td>\n",
       "      <td>4</td>\n",
       "      <td>1</td>\n",
       "    </tr>\n",
       "    <tr>\n",
       "      <th>3</th>\n",
       "      <td>4081</td>\n",
       "      <td>100399</td>\n",
       "      <td>They actually did it</td>\n",
       "      <td>South Park: Bigger, Longer &amp; Uncut</td>\n",
       "      <td>3</td>\n",
       "      <td>M</td>\n",
       "      <td>Movies</td>\n",
       "      <td>68</td>\n",
       "      <td>143.11</td>\n",
       "      <td>4</td>\n",
       "      <td>1</td>\n",
       "    </tr>\n",
       "    <tr>\n",
       "      <th>4</th>\n",
       "      <td>4081</td>\n",
       "      <td>100399</td>\n",
       "      <td>Hey! Gimme some pie!</td>\n",
       "      <td>American Pie</td>\n",
       "      <td>3</td>\n",
       "      <td>M</td>\n",
       "      <td>Movies</td>\n",
       "      <td>6</td>\n",
       "      <td>117.89</td>\n",
       "      <td>4</td>\n",
       "      <td>0</td>\n",
       "    </tr>\n",
       "  </tbody>\n",
       "</table>\n",
       "</div>"
      ],
      "text/plain": [
       "   userId  timestamp                                           review  \\\n",
       "0    4081      71900                                Not always McCrap   \n",
       "1    4081      72000  I dropped the chalupa even before he told me to   \n",
       "2    4081      72000                     The Wonderful World of Wendy   \n",
       "3    4081     100399                             They actually did it   \n",
       "4    4081     100399                             Hey! Gimme some pie!   \n",
       "\n",
       "                                 item  helpfulness gender  \\\n",
       "0                          McDonald's            3      M   \n",
       "1                           Taco Bell            4      M   \n",
       "2                             Wendy's            4      M   \n",
       "3  South Park: Bigger, Longer & Uncut            3      M   \n",
       "4                        American Pie            3      M   \n",
       "\n",
       "                category  item_id  item_price  user_city  rating  \n",
       "0  Restaurants & Gourmet       41       30.74          4       1  \n",
       "1  Restaurants & Gourmet       74      108.30          4       0  \n",
       "2  Restaurants & Gourmet       84       69.00          4       1  \n",
       "3                 Movies       68      143.11          4       1  \n",
       "4                 Movies        6      117.89          4       0  "
      ]
     },
     "execution_count": 2,
     "metadata": {},
     "output_type": "execute_result"
    }
   ],
   "source": [
    "data_set = 'data/portfolio_3.csv'\n",
    "data_frame = pd.read_csv(data_set)\n",
    "data_frame.head()"
   ]
  },
  {
   "cell_type": "markdown",
   "id": "f5095e53",
   "metadata": {},
   "source": [
    "#### 2. Cleaning the dataset"
   ]
  },
  {
   "cell_type": "markdown",
   "id": "2056cd0d",
   "metadata": {},
   "source": [
    "All null values are dropped from the dataset. They will only create a hindrance in further processing."
   ]
  },
  {
   "cell_type": "code",
   "execution_count": 3,
   "id": "93b73d82",
   "metadata": {},
   "outputs": [
    {
     "data": {
      "text/html": [
       "<div>\n",
       "<style scoped>\n",
       "    .dataframe tbody tr th:only-of-type {\n",
       "        vertical-align: middle;\n",
       "    }\n",
       "\n",
       "    .dataframe tbody tr th {\n",
       "        vertical-align: top;\n",
       "    }\n",
       "\n",
       "    .dataframe thead th {\n",
       "        text-align: right;\n",
       "    }\n",
       "</style>\n",
       "<table border=\"1\" class=\"dataframe\">\n",
       "  <thead>\n",
       "    <tr style=\"text-align: right;\">\n",
       "      <th></th>\n",
       "      <th>userId</th>\n",
       "      <th>timestamp</th>\n",
       "      <th>review</th>\n",
       "      <th>item</th>\n",
       "      <th>helpfulness</th>\n",
       "      <th>gender</th>\n",
       "      <th>category</th>\n",
       "      <th>item_id</th>\n",
       "      <th>item_price</th>\n",
       "      <th>user_city</th>\n",
       "      <th>rating</th>\n",
       "    </tr>\n",
       "  </thead>\n",
       "  <tbody>\n",
       "    <tr>\n",
       "      <th>0</th>\n",
       "      <td>4081</td>\n",
       "      <td>71900</td>\n",
       "      <td>Not always McCrap</td>\n",
       "      <td>McDonald's</td>\n",
       "      <td>3</td>\n",
       "      <td>M</td>\n",
       "      <td>Restaurants &amp; Gourmet</td>\n",
       "      <td>41</td>\n",
       "      <td>30.74</td>\n",
       "      <td>4</td>\n",
       "      <td>1</td>\n",
       "    </tr>\n",
       "    <tr>\n",
       "      <th>1</th>\n",
       "      <td>4081</td>\n",
       "      <td>72000</td>\n",
       "      <td>I dropped the chalupa even before he told me to</td>\n",
       "      <td>Taco Bell</td>\n",
       "      <td>4</td>\n",
       "      <td>M</td>\n",
       "      <td>Restaurants &amp; Gourmet</td>\n",
       "      <td>74</td>\n",
       "      <td>108.30</td>\n",
       "      <td>4</td>\n",
       "      <td>0</td>\n",
       "    </tr>\n",
       "    <tr>\n",
       "      <th>2</th>\n",
       "      <td>4081</td>\n",
       "      <td>72000</td>\n",
       "      <td>The Wonderful World of Wendy</td>\n",
       "      <td>Wendy's</td>\n",
       "      <td>4</td>\n",
       "      <td>M</td>\n",
       "      <td>Restaurants &amp; Gourmet</td>\n",
       "      <td>84</td>\n",
       "      <td>69.00</td>\n",
       "      <td>4</td>\n",
       "      <td>1</td>\n",
       "    </tr>\n",
       "    <tr>\n",
       "      <th>3</th>\n",
       "      <td>4081</td>\n",
       "      <td>100399</td>\n",
       "      <td>They actually did it</td>\n",
       "      <td>South Park: Bigger, Longer &amp; Uncut</td>\n",
       "      <td>3</td>\n",
       "      <td>M</td>\n",
       "      <td>Movies</td>\n",
       "      <td>68</td>\n",
       "      <td>143.11</td>\n",
       "      <td>4</td>\n",
       "      <td>1</td>\n",
       "    </tr>\n",
       "    <tr>\n",
       "      <th>4</th>\n",
       "      <td>4081</td>\n",
       "      <td>100399</td>\n",
       "      <td>Hey! Gimme some pie!</td>\n",
       "      <td>American Pie</td>\n",
       "      <td>3</td>\n",
       "      <td>M</td>\n",
       "      <td>Movies</td>\n",
       "      <td>6</td>\n",
       "      <td>117.89</td>\n",
       "      <td>4</td>\n",
       "      <td>0</td>\n",
       "    </tr>\n",
       "  </tbody>\n",
       "</table>\n",
       "</div>"
      ],
      "text/plain": [
       "   userId  timestamp                                           review  \\\n",
       "0    4081      71900                                Not always McCrap   \n",
       "1    4081      72000  I dropped the chalupa even before he told me to   \n",
       "2    4081      72000                     The Wonderful World of Wendy   \n",
       "3    4081     100399                             They actually did it   \n",
       "4    4081     100399                             Hey! Gimme some pie!   \n",
       "\n",
       "                                 item  helpfulness gender  \\\n",
       "0                          McDonald's            3      M   \n",
       "1                           Taco Bell            4      M   \n",
       "2                             Wendy's            4      M   \n",
       "3  South Park: Bigger, Longer & Uncut            3      M   \n",
       "4                        American Pie            3      M   \n",
       "\n",
       "                category  item_id  item_price  user_city  rating  \n",
       "0  Restaurants & Gourmet       41       30.74          4       1  \n",
       "1  Restaurants & Gourmet       74      108.30          4       0  \n",
       "2  Restaurants & Gourmet       84       69.00          4       1  \n",
       "3                 Movies       68      143.11          4       1  \n",
       "4                 Movies        6      117.89          4       0  "
      ]
     },
     "execution_count": 3,
     "metadata": {},
     "output_type": "execute_result"
    }
   ],
   "source": [
    "data_frame = data_frame.dropna()\n",
    "data_frame.head()"
   ]
  },
  {
   "cell_type": "markdown",
   "id": "af758f42",
   "metadata": {},
   "source": [
    "#### 3. Encoding object features into numerical values"
   ]
  },
  {
   "cell_type": "markdown",
   "id": "4f4a067a",
   "metadata": {},
   "source": [
    "All non numeric features are encoded into numerical values, same as done in previous protfolios. \"gender\" and \"category\" are assigned numeric values. \"review\" is converted using sentiments involved in the text rather than simply assigning a numeric value to the text. Positive reviews result in higher sentiment."
   ]
  },
  {
   "cell_type": "code",
   "execution_count": 4,
   "id": "82b30bac",
   "metadata": {},
   "outputs": [
    {
     "data": {
      "text/html": [
       "<div>\n",
       "<style scoped>\n",
       "    .dataframe tbody tr th:only-of-type {\n",
       "        vertical-align: middle;\n",
       "    }\n",
       "\n",
       "    .dataframe tbody tr th {\n",
       "        vertical-align: top;\n",
       "    }\n",
       "\n",
       "    .dataframe thead th {\n",
       "        text-align: right;\n",
       "    }\n",
       "</style>\n",
       "<table border=\"1\" class=\"dataframe\">\n",
       "  <thead>\n",
       "    <tr style=\"text-align: right;\">\n",
       "      <th></th>\n",
       "      <th>userId</th>\n",
       "      <th>timestamp</th>\n",
       "      <th>review</th>\n",
       "      <th>item</th>\n",
       "      <th>helpfulness</th>\n",
       "      <th>gender</th>\n",
       "      <th>category</th>\n",
       "      <th>item_id</th>\n",
       "      <th>item_price</th>\n",
       "      <th>user_city</th>\n",
       "      <th>rating</th>\n",
       "      <th>gender_encoded</th>\n",
       "      <th>category_encoded</th>\n",
       "      <th>review_encoded</th>\n",
       "    </tr>\n",
       "  </thead>\n",
       "  <tbody>\n",
       "    <tr>\n",
       "      <th>0</th>\n",
       "      <td>4081</td>\n",
       "      <td>71900</td>\n",
       "      <td>Not always McCrap</td>\n",
       "      <td>McDonald's</td>\n",
       "      <td>3</td>\n",
       "      <td>M</td>\n",
       "      <td>Restaurants &amp; Gourmet</td>\n",
       "      <td>41</td>\n",
       "      <td>30.74</td>\n",
       "      <td>4</td>\n",
       "      <td>1</td>\n",
       "      <td>1.0</td>\n",
       "      <td>8.0</td>\n",
       "      <td>0.0</td>\n",
       "    </tr>\n",
       "    <tr>\n",
       "      <th>1</th>\n",
       "      <td>4081</td>\n",
       "      <td>72000</td>\n",
       "      <td>I dropped the chalupa even before he told me to</td>\n",
       "      <td>Taco Bell</td>\n",
       "      <td>4</td>\n",
       "      <td>M</td>\n",
       "      <td>Restaurants &amp; Gourmet</td>\n",
       "      <td>74</td>\n",
       "      <td>108.30</td>\n",
       "      <td>4</td>\n",
       "      <td>0</td>\n",
       "      <td>1.0</td>\n",
       "      <td>8.0</td>\n",
       "      <td>0.0</td>\n",
       "    </tr>\n",
       "    <tr>\n",
       "      <th>2</th>\n",
       "      <td>4081</td>\n",
       "      <td>72000</td>\n",
       "      <td>The Wonderful World of Wendy</td>\n",
       "      <td>Wendy's</td>\n",
       "      <td>4</td>\n",
       "      <td>M</td>\n",
       "      <td>Restaurants &amp; Gourmet</td>\n",
       "      <td>84</td>\n",
       "      <td>69.00</td>\n",
       "      <td>4</td>\n",
       "      <td>1</td>\n",
       "      <td>1.0</td>\n",
       "      <td>8.0</td>\n",
       "      <td>1.0</td>\n",
       "    </tr>\n",
       "    <tr>\n",
       "      <th>3</th>\n",
       "      <td>4081</td>\n",
       "      <td>100399</td>\n",
       "      <td>They actually did it</td>\n",
       "      <td>South Park: Bigger, Longer &amp; Uncut</td>\n",
       "      <td>3</td>\n",
       "      <td>M</td>\n",
       "      <td>Movies</td>\n",
       "      <td>68</td>\n",
       "      <td>143.11</td>\n",
       "      <td>4</td>\n",
       "      <td>1</td>\n",
       "      <td>1.0</td>\n",
       "      <td>5.0</td>\n",
       "      <td>0.0</td>\n",
       "    </tr>\n",
       "    <tr>\n",
       "      <th>4</th>\n",
       "      <td>4081</td>\n",
       "      <td>100399</td>\n",
       "      <td>Hey! Gimme some pie!</td>\n",
       "      <td>American Pie</td>\n",
       "      <td>3</td>\n",
       "      <td>M</td>\n",
       "      <td>Movies</td>\n",
       "      <td>6</td>\n",
       "      <td>117.89</td>\n",
       "      <td>4</td>\n",
       "      <td>0</td>\n",
       "      <td>1.0</td>\n",
       "      <td>5.0</td>\n",
       "      <td>0.0</td>\n",
       "    </tr>\n",
       "  </tbody>\n",
       "</table>\n",
       "</div>"
      ],
      "text/plain": [
       "   userId  timestamp                                           review  \\\n",
       "0    4081      71900                                Not always McCrap   \n",
       "1    4081      72000  I dropped the chalupa even before he told me to   \n",
       "2    4081      72000                     The Wonderful World of Wendy   \n",
       "3    4081     100399                             They actually did it   \n",
       "4    4081     100399                             Hey! Gimme some pie!   \n",
       "\n",
       "                                 item  helpfulness gender  \\\n",
       "0                          McDonald's            3      M   \n",
       "1                           Taco Bell            4      M   \n",
       "2                             Wendy's            4      M   \n",
       "3  South Park: Bigger, Longer & Uncut            3      M   \n",
       "4                        American Pie            3      M   \n",
       "\n",
       "                category  item_id  item_price  user_city  rating  \\\n",
       "0  Restaurants & Gourmet       41       30.74          4       1   \n",
       "1  Restaurants & Gourmet       74      108.30          4       0   \n",
       "2  Restaurants & Gourmet       84       69.00          4       1   \n",
       "3                 Movies       68      143.11          4       1   \n",
       "4                 Movies        6      117.89          4       0   \n",
       "\n",
       "   gender_encoded  category_encoded  review_encoded  \n",
       "0             1.0               8.0             0.0  \n",
       "1             1.0               8.0             0.0  \n",
       "2             1.0               8.0             1.0  \n",
       "3             1.0               5.0             0.0  \n",
       "4             1.0               5.0             0.0  "
      ]
     },
     "execution_count": 4,
     "metadata": {},
     "output_type": "execute_result"
    }
   ],
   "source": [
    "# Initialize OrdinalEncoder\n",
    "encoder = OrdinalEncoder()\n",
    "\n",
    "# Fit and transform the gender and category columns\n",
    "data_frame['gender_encoded'] = encoder.fit_transform(data_frame[['gender']])\n",
    "data_frame['category_encoded'] = encoder.fit_transform(data_frame[['category']])\n",
    "data_frame['review_encoded'] = data_frame['review'].apply(lambda x: TextBlob(x).sentiment.polarity)\n",
    "data_frame.head()"
   ]
  },
  {
   "cell_type": "markdown",
   "id": "3d21e902",
   "metadata": {},
   "source": [
    "## Studying Correlation"
   ]
  },
  {
   "cell_type": "markdown",
   "id": "392a661e",
   "metadata": {},
   "source": [
    "#### 1. Observing the Correlation between the relevant features"
   ]
  },
  {
   "cell_type": "markdown",
   "id": "55e50b4b",
   "metadata": {},
   "source": [
    "Only some of the features are selected for correlation. The selected features are all logically obvious. They are | review | helpfulness | gender | category | rating |"
   ]
  },
  {
   "cell_type": "code",
   "execution_count": 5,
   "id": "ffaa1018",
   "metadata": {},
   "outputs": [],
   "source": [
    "corr_columns = ['rating', 'helpfulness', 'gender_encoded','category_encoded', 'review_encoded']\n",
    "corr_data = data_frame[corr_columns]\n",
    "corr_matrix = corr_data.corr()"
   ]
  },
  {
   "cell_type": "markdown",
   "id": "c134fadc",
   "metadata": {},
   "source": [
    "#### 2. Visualizing Correlation Map"
   ]
  },
  {
   "cell_type": "markdown",
   "id": "c956e889",
   "metadata": {},
   "source": [
    "The correlation heatmap shows how each feature is affected by the rest. rating and review fields have the highest correlation, even though it is quite low. The rest are also very low correlation values. At this stage, I estimate that the prediction models will not be sufficiently accurate."
   ]
  },
  {
   "cell_type": "code",
   "execution_count": 6,
   "id": "9a80ac2a",
   "metadata": {},
   "outputs": [
    {
     "data": {
      "image/png": "[encoded data removed]",
      "text/plain": [
       "<Figure size 1200x800 with 2 Axes>"
      ]
     },
     "metadata": {},
     "output_type": "display_data"
    }
   ],
   "source": [
    "plt.figure(figsize=(12, 8))\n",
    "sns.heatmap(corr_matrix, annot=True)\n",
    "plt.title(\"Correlation Matrix\")\n",
    "plt.show()"
   ]
  },
  {
   "cell_type": "markdown",
   "id": "a9785934",
   "metadata": {},
   "source": [
    "## Logistic Regression Model"
   ]
  },
  {
   "cell_type": "markdown",
   "id": "65d2de96",
   "metadata": {},
   "source": [
    "##### 1. Splitting the dataset into training and testing data"
   ]
  },
  {
   "cell_type": "markdown",
   "id": "c3f92f45",
   "metadata": {},
   "source": [
    "The dataset is split into training and testing data. 75% of the data is being used to train the model while 25% of the data is going to test it."
   ]
  },
  {
   "cell_type": "code",
   "execution_count": 7,
   "id": "42ef7622",
   "metadata": {},
   "outputs": [],
   "source": [
    "X = corr_data.drop(columns=['rating'])\n",
    "Y = corr_data[\"rating\"]\n",
    "\n",
    "X_train, X_test, Y_train, Y_test = train_test_split(X, Y, test_size=0.25, random_state=156)"
   ]
  },
  {
   "cell_type": "markdown",
   "id": "8a68b26f",
   "metadata": {},
   "source": [
    "#### 2. Training Logistic Regression Model"
   ]
  },
  {
   "cell_type": "code",
   "execution_count": 8,
   "id": "b38bd402",
   "metadata": {},
   "outputs": [],
   "source": [
    "logistic_regression_model = LogisticRegression()\n",
    "logistic_regression_model.fit(X_train, Y_train)\n",
    "\n",
    "Y_pred_log_reg = logistic_regression_model.predict(X_test)"
   ]
  },
  {
   "cell_type": "markdown",
   "id": "ee16b3f5",
   "metadata": {},
   "source": [
    "#### 3. Evaluating accuracy score of Logistic Regression Model"
   ]
  },
  {
   "cell_type": "markdown",
   "id": "a5261671",
   "metadata": {},
   "source": [
    "The accuracy of the Logistic regression model is calculated. It comes out to be 0.68 which is not poor but not good either. The model is accurate only two-thirds of the time."
   ]
  },
  {
   "cell_type": "code",
   "execution_count": 9,
   "id": "c2ca8b5d",
   "metadata": {},
   "outputs": [
    {
     "name": "stdout",
     "output_type": "stream",
     "text": [
      "Accuracy: 0.6845238095238095\n"
     ]
    }
   ],
   "source": [
    "log_reg_accuracy = accuracy_score(Y_test, Y_pred_log_reg)\n",
    "print(\"Accuracy:\", log_reg_accuracy)\n"
   ]
  },
  {
   "cell_type": "markdown",
   "id": "4c8d92f9",
   "metadata": {},
   "source": [
    "The confusion matrix for the Logistic Regression Model shows the differences between the True values and Predicted values. The model predicts 1 most of the time when the true value is 1. However, it also predicts 1 a lot when the true value is 0. This seems to be the issue with this model."
   ]
  },
  {
   "cell_type": "code",
   "execution_count": 10,
   "id": "15d62a66",
   "metadata": {},
   "outputs": [
    {
     "data": {
      "text/plain": [
       "<sklearn.metrics._plot.confusion_matrix.ConfusionMatrixDisplay at 0x1d5010d5510>"
      ]
     },
     "execution_count": 10,
     "metadata": {},
     "output_type": "execute_result"
    },
    {
     "data": {
      "image/png": "[encoded data removed]",
      "text/plain": [
       "<Figure size 640x480 with 2 Axes>"
      ]
     },
     "metadata": {},
     "output_type": "display_data"
    }
   ],
   "source": [
    "log_reg_cm = confusion_matrix(Y_test, Y_pred_log_reg)\n",
    "ConfusionMatrixDisplay(confusion_matrix=log_reg_cm).plot()\n"
   ]
  },
  {
   "cell_type": "markdown",
   "id": "f2187953",
   "metadata": {},
   "source": [
    "## KNN Model"
   ]
  },
  {
   "cell_type": "markdown",
   "id": "22b347ea",
   "metadata": {},
   "source": [
    "#### 1. Training KNN Model"
   ]
  },
  {
   "cell_type": "markdown",
   "id": "29f37ae7",
   "metadata": {},
   "source": [
    "The same Training and Testing data is used as for the Logistic Regression Model to make this a fair comparison. K is arbitrarily set to 5 for this initial test."
   ]
  },
  {
   "cell_type": "code",
   "execution_count": 11,
   "id": "f585564e",
   "metadata": {},
   "outputs": [],
   "source": [
    "# arbitrarily choosing k\n",
    "k = 5\n",
    "\n",
    "knn_model = KNeighborsClassifier(n_neighbors=k)\n",
    "knn_model.fit(X_train, Y_train)\n",
    "\n",
    "Y_pred_knn = knn_model.predict(X_test)\n"
   ]
  },
  {
   "cell_type": "markdown",
   "id": "7fdaefb1",
   "metadata": {},
   "source": [
    "#### 2. Evaluating accuracy score of KNN Model"
   ]
  },
  {
   "cell_type": "markdown",
   "id": "7e944c57",
   "metadata": {},
   "source": [
    "The accuracy of this KNN model comes out to under 0.61. This is worse than the Logistic Regression Model, although still not a poor estimator."
   ]
  },
  {
   "cell_type": "code",
   "execution_count": 12,
   "id": "6f0abb64",
   "metadata": {},
   "outputs": [
    {
     "name": "stdout",
     "output_type": "stream",
     "text": [
      "Accuracy: 0.6071428571428571\n"
     ]
    }
   ],
   "source": [
    "knn_accuracy = accuracy_score(Y_test, Y_pred_knn)\n",
    "print(\"Accuracy:\", knn_accuracy)\n"
   ]
  },
  {
   "cell_type": "markdown",
   "id": "46753a9f",
   "metadata": {},
   "source": [
    "The confusion matrix for the KNN Model shows that it predicts 0s better than the Logistic regression model but it is worse at predicting 1s."
   ]
  },
  {
   "cell_type": "code",
   "execution_count": 13,
   "id": "df3c3bf2",
   "metadata": {},
   "outputs": [
    {
     "data": {
      "text/plain": [
       "<sklearn.metrics._plot.confusion_matrix.ConfusionMatrixDisplay at 0x1d5032cf2d0>"
      ]
     },
     "execution_count": 13,
     "metadata": {},
     "output_type": "execute_result"
    },
    {
     "data": {
      "image/png": "[encoded data removed]",
      "text/plain": [
       "<Figure size 640x480 with 2 Axes>"
      ]
     },
     "metadata": {},
     "output_type": "display_data"
    }
   ],
   "source": [
    "knn_cm = confusion_matrix(Y_test, Y_pred_knn)\n",
    "ConfusionMatrixDisplay(confusion_matrix=knn_cm).plot()\n"
   ]
  },
  {
   "cell_type": "markdown",
   "id": "f00cbeb1",
   "metadata": {},
   "source": [
    "## Tuning KNN Model"
   ]
  },
  {
   "cell_type": "markdown",
   "id": "efdaa46c",
   "metadata": {},
   "source": [
    "#### 1. Looping through a range of reasonably possible values of K to determine most accurate k "
   ]
  },
  {
   "cell_type": "markdown",
   "id": "06bcf756",
   "metadata": {},
   "source": [
    "Again very arbitrary but the possible range of K values is set from 1 to 50. The assumption is that the most optimal value of k should not be a very high value. The process is simply to loop through each value of k and determining accuracies of each. "
   ]
  },
  {
   "cell_type": "code",
   "execution_count": 14,
   "id": "1f579726",
   "metadata": {},
   "outputs": [],
   "source": [
    "k_values = range(1, 50)\n",
    "\n",
    "accuracy_scores = []\n",
    "\n",
    "for k in k_values:\n",
    "    knn_model_temp = KNeighborsClassifier(n_neighbors=k)\n",
    "    knn_model_temp.fit(X_train, Y_train)\n",
    "    Y_pred_temp = knn_model_temp.predict(X_test)\n",
    "    temp_accuracy = accuracy_score(Y_test, Y_pred_temp)\n",
    "    accuracy_scores.append(temp_accuracy)\n"
   ]
  },
  {
   "cell_type": "markdown",
   "id": "b70a1b77",
   "metadata": {},
   "source": [
    "#### 2. Plotting Accuracy against the respective k values"
   ]
  },
  {
   "cell_type": "code",
   "execution_count": 15,
   "id": "ce1060a5",
   "metadata": {},
   "outputs": [
    {
     "data": {
      "image/png": "[encoded data removed]",
      "text/plain": [
       "<Figure size 1000x600 with 1 Axes>"
      ]
     },
     "metadata": {},
     "output_type": "display_data"
    }
   ],
   "source": [
    "plt.figure(figsize=(10, 6))\n",
    "plt.plot(k_values, accuracy_scores, marker='o', linestyle='-')\n",
    "plt.xlabel(\"K (Number of Neighbors)\")\n",
    "plt.ylabel(\"Mean Accuracy (Cross-Validation)\")\n",
    "plt.title(\"KNN Hyperparameter Tuning\")\n",
    "plt.grid(True)\n",
    "plt.show()\n"
   ]
  },
  {
   "cell_type": "markdown",
   "id": "a8758d48",
   "metadata": {},
   "source": [
    "The optimal value of k comes out to be 37 and the accuracy for the model with k=37 comes out to be 0.697. This is slightly better than even the Logistic Regression Model."
   ]
  },
  {
   "cell_type": "code",
   "execution_count": 16,
   "id": "00cc5322",
   "metadata": {},
   "outputs": [
    {
     "name": "stdout",
     "output_type": "stream",
     "text": [
      "Optimal K: 37\n",
      "Test Accuracy: 0.6979166666666666\n"
     ]
    }
   ],
   "source": [
    "optimal_k = k_values[np.argmax(accuracy_scores)]\n",
    "final_knn_model = KNeighborsClassifier(n_neighbors=optimal_k)\n",
    "final_knn_model.fit(X_train, Y_train)\n",
    "Y_pred_optimal = final_knn_model.predict(X_test)\n",
    "knn_accuracy_optimal = accuracy_score(Y_test, Y_pred_optimal)\n",
    "print(\"Optimal K:\", optimal_k)\n",
    "print(\"Test Accuracy:\", knn_accuracy_optimal)\n"
   ]
  },
  {
   "cell_type": "markdown",
   "id": "da5ce7cb",
   "metadata": {},
   "source": [
    "The confusion matrix for the knn model with fine tuned k shows that it has gotten much better at predicting 1s but has somehow gotten a little worse at predicting 0s."
   ]
  },
  {
   "cell_type": "code",
   "execution_count": 17,
   "id": "8ff2af3f",
   "metadata": {},
   "outputs": [
    {
     "data": {
      "text/plain": [
       "<sklearn.metrics._plot.confusion_matrix.ConfusionMatrixDisplay at 0x1d503298610>"
      ]
     },
     "execution_count": 17,
     "metadata": {},
     "output_type": "execute_result"
    },
    {
     "data": {
      "image/png": "[encoded data removed]",
      "text/plain": [
       "<Figure size 640x480 with 2 Axes>"
      ]
     },
     "metadata": {},
     "output_type": "display_data"
    }
   ],
   "source": [
    "knn_cm_optimal = confusion_matrix(Y_test, Y_pred_optimal)\n",
    "ConfusionMatrixDisplay(confusion_matrix=knn_cm_optimal).plot()"
   ]
  },
  {
   "cell_type": "markdown",
   "id": "3356d078",
   "metadata": {},
   "source": [
    "## Conclusion"
   ]
  },
  {
   "cell_type": "markdown",
   "id": "4e82b287",
   "metadata": {},
   "source": [
    "The difference in performance of Logistic Regression Model and KNN Model is quite visible through the above tests. The accuracy of KNN Model depends on the value of K. Logistic Regression has no such constraint. It is observed that the ability to predict 1s or 0s is mutually exclusive. Being good at predicting 1s does not mean the model will be good at predicting 0s. \n",
    "\n",
    "The performance of both models may also depend on feature selection. In this case, all relevant features were included in training and testing. Another method could be to only use some of these features, selected based on their correlation. RFE function can be used by selecting the n best features. However, this was not done because other than \"review\", there is no obvious second choice, and training a model using only a single feature will not yield satisfactory results. \n",
    "\n",
    "All in all, both models performed similarly and were actually more accurate than my initial prediction based on the correlation matrix."
   ]
  }
 ],
 "metadata": {
  "colab": {
   "provenance": []
  },
  "kernelspec": {
   "display_name": "Python 3 (ipykernel)",
   "language": "python",
   "name": "python3"
  },
  "language_info": {
   "codemirror_mode": {
    "name": "ipython",
    "version": 3
   },
   "file_extension": ".py",
   "mimetype": "text/x-python",
   "name": "python",
   "nbconvert_exporter": "python",
   "pygments_lexer": "ipython3",
   "version": "3.11.5"
  }
 },
 "nbformat": 4,
 "nbformat_minor": 5
}
